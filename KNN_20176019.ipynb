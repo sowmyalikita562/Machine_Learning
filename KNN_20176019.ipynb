{
  "nbformat": 4,
  "nbformat_minor": 0,
  "metadata": {
    "colab": {
      "name": "Untitled0.ipynb",
      "version": "0.3.2",
      "provenance": [],
      "include_colab_link": true
    },
    "kernelspec": {
      "name": "python3",
      "display_name": "Python 3"
    }
  },
  "cells": [
    {
      "cell_type": "markdown",
      "metadata": {
        "id": "view-in-github",
        "colab_type": "text"
      },
      "source": [
        "<a href=\"https://colab.research.google.com/github/sowmyalikkyy/Machine_Learning/blob/master/KNN_20176019.ipynb\" target=\"_parent\"><img src=\"https://colab.research.google.com/assets/colab-badge.svg\" alt=\"Open In Colab\"/></a>"
      ]
    },
    {
      "metadata": {
        "id": "aQRM5pYUMC5t",
        "colab_type": "code",
        "colab": {}
      },
      "cell_type": "code",
      "source": [
        "import pandas as pd\n",
        "import matplotlib.pyplot as plt\n",
        "from scipy.io import arff\n",
        "import numpy\n",
        "import math\n",
        "import operator"
      ],
      "execution_count": 0,
      "outputs": []
    },
    {
      "metadata": {
        "id": "XQyAoO55MIdI",
        "colab_type": "code",
        "outputId": "c619e561-852c-45c9-fd11-e3769fec66a4",
        "colab": {
          "resources": {
            "http://localhost:8080/nbextensions/google.colab/files.js": {
              "data": "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",
              "ok": true,
              "headers": [
                [
                  "content-type",
                  "application/javascript"
                ]
              ],
              "status": 200,
              "status_text": ""
            }
          },
          "base_uri": "https://localhost:8080/",
          "height": 106
        }
      },
      "cell_type": "code",
      "source": [
        "from google.colab import files\n",
        "uploaded = files.upload()"
      ],
      "execution_count": 2,
      "outputs": [
        {
          "output_type": "display_data",
          "data": {
            "text/html": [
              "\n",
              "     <input type=\"file\" id=\"files-ea089a22-8102-43a3-aaa1-af395e312efc\" name=\"files[]\" multiple disabled />\n",
              "     <output id=\"result-ea089a22-8102-43a3-aaa1-af395e312efc\">\n",
              "      Upload widget is only available when the cell has been executed in the\n",
              "      current browser session. Please rerun this cell to enable.\n",
              "      </output>\n",
              "      <script src=\"/nbextensions/google.colab/files.js\"></script> "
            ],
            "text/plain": [
              "<IPython.core.display.HTML object>"
            ]
          },
          "metadata": {
            "tags": []
          }
        },
        {
          "output_type": "stream",
          "text": [
            "Saving testProdSelection.arff to testProdSelection.arff\n",
            "Saving trainProdSelection.arff to trainProdSelection.arff\n"
          ],
          "name": "stdout"
        }
      ]
    },
    {
      "metadata": {
        "id": "0XbkZIK4pF3y",
        "colab_type": "code",
        "colab": {}
      },
      "cell_type": "code",
      "source": [
        "train=arff.loadarff(\"trainProdSelection.arff\")\n",
        "\n",
        "test=arff.loadarff(\"testProdSelection.arff\")"
      ],
      "execution_count": 0,
      "outputs": []
    },
    {
      "metadata": {
        "id": "uYpFr15TetPh",
        "colab_type": "code",
        "colab": {}
      },
      "cell_type": "code",
      "source": [
        "trainingDF = pd.DataFrame(train[0])\n",
        "testingDF = pd.DataFrame(test[0])"
      ],
      "execution_count": 0,
      "outputs": []
    },
    {
      "metadata": {
        "id": "zAXfhJIZpF38",
        "colab_type": "code",
        "outputId": "58e3faba-3804-4291-f8fc-39cbac308b7e",
        "colab": {
          "base_uri": "https://localhost:8080/",
          "height": 221
        }
      },
      "cell_type": "code",
      "source": [
        "trainingDF.info()"
      ],
      "execution_count": 5,
      "outputs": [
        {
          "output_type": "stream",
          "text": [
            "<class 'pandas.core.frame.DataFrame'>\n",
            "RangeIndex: 186 entries, 0 to 185\n",
            "Data columns (total 7 columns):\n",
            "Type         186 non-null object\n",
            "LifeStyle    186 non-null object\n",
            "Vacation     186 non-null float64\n",
            "eCredit      186 non-null float64\n",
            "salary       186 non-null float64\n",
            "property     186 non-null float64\n",
            "label        186 non-null object\n",
            "dtypes: float64(4), object(3)\n",
            "memory usage: 10.2+ KB\n"
          ],
          "name": "stdout"
        }
      ]
    },
    {
      "metadata": {
        "id": "hKD4ZIVulvgl",
        "colab_type": "code",
        "outputId": "619491e3-006b-44c8-bf43-60e388d77e16",
        "colab": {
          "base_uri": "https://localhost:8080/",
          "height": 204
        }
      },
      "cell_type": "code",
      "source": [
        "trainingDF.head()"
      ],
      "execution_count": 6,
      "outputs": [
        {
          "output_type": "execute_result",
          "data": {
            "text/html": [
              "<div>\n",
              "<style scoped>\n",
              "    .dataframe tbody tr th:only-of-type {\n",
              "        vertical-align: middle;\n",
              "    }\n",
              "\n",
              "    .dataframe tbody tr th {\n",
              "        vertical-align: top;\n",
              "    }\n",
              "\n",
              "    .dataframe thead th {\n",
              "        text-align: right;\n",
              "    }\n",
              "</style>\n",
              "<table border=\"1\" class=\"dataframe\">\n",
              "  <thead>\n",
              "    <tr style=\"text-align: right;\">\n",
              "      <th></th>\n",
              "      <th>Type</th>\n",
              "      <th>LifeStyle</th>\n",
              "      <th>Vacation</th>\n",
              "      <th>eCredit</th>\n",
              "      <th>salary</th>\n",
              "      <th>property</th>\n",
              "      <th>label</th>\n",
              "    </tr>\n",
              "  </thead>\n",
              "  <tbody>\n",
              "    <tr>\n",
              "      <th>0</th>\n",
              "      <td>b'student'</td>\n",
              "      <td>b'spend&gt;saving'</td>\n",
              "      <td>6.0</td>\n",
              "      <td>40.0</td>\n",
              "      <td>13.62</td>\n",
              "      <td>3.2804</td>\n",
              "      <td>b'C1'</td>\n",
              "    </tr>\n",
              "    <tr>\n",
              "      <th>1</th>\n",
              "      <td>b'student'</td>\n",
              "      <td>b'spend&gt;saving'</td>\n",
              "      <td>11.0</td>\n",
              "      <td>21.0</td>\n",
              "      <td>15.32</td>\n",
              "      <td>2.0232</td>\n",
              "      <td>b'C1'</td>\n",
              "    </tr>\n",
              "    <tr>\n",
              "      <th>2</th>\n",
              "      <td>b'student'</td>\n",
              "      <td>b'spend&gt;saving'</td>\n",
              "      <td>7.0</td>\n",
              "      <td>64.0</td>\n",
              "      <td>16.55</td>\n",
              "      <td>3.1202</td>\n",
              "      <td>b'C1'</td>\n",
              "    </tr>\n",
              "    <tr>\n",
              "      <th>3</th>\n",
              "      <td>b'student'</td>\n",
              "      <td>b'spend&gt;saving'</td>\n",
              "      <td>3.0</td>\n",
              "      <td>47.0</td>\n",
              "      <td>15.71</td>\n",
              "      <td>3.4022</td>\n",
              "      <td>b'C1'</td>\n",
              "    </tr>\n",
              "    <tr>\n",
              "      <th>4</th>\n",
              "      <td>b'student'</td>\n",
              "      <td>b'spend&gt;saving'</td>\n",
              "      <td>15.0</td>\n",
              "      <td>10.0</td>\n",
              "      <td>16.96</td>\n",
              "      <td>2.2825</td>\n",
              "      <td>b'C1'</td>\n",
              "    </tr>\n",
              "  </tbody>\n",
              "</table>\n",
              "</div>"
            ],
            "text/plain": [
              "         Type        LifeStyle  Vacation  eCredit  salary  property  label\n",
              "0  b'student'  b'spend>saving'       6.0     40.0   13.62    3.2804  b'C1'\n",
              "1  b'student'  b'spend>saving'      11.0     21.0   15.32    2.0232  b'C1'\n",
              "2  b'student'  b'spend>saving'       7.0     64.0   16.55    3.1202  b'C1'\n",
              "3  b'student'  b'spend>saving'       3.0     47.0   15.71    3.4022  b'C1'\n",
              "4  b'student'  b'spend>saving'      15.0     10.0   16.96    2.2825  b'C1'"
            ]
          },
          "metadata": {
            "tags": []
          },
          "execution_count": 6
        }
      ]
    },
    {
      "metadata": {
        "id": "fFQeONkhpF4V",
        "colab_type": "code",
        "colab": {}
      },
      "cell_type": "code",
      "source": [
        "trainingDF.Type=trainingDF.Type.str.decode(\"UTF-8\")"
      ],
      "execution_count": 0,
      "outputs": []
    },
    {
      "metadata": {
        "id": "AGNayZkIlHv9",
        "colab_type": "code",
        "colab": {}
      },
      "cell_type": "code",
      "source": [
        "trainingDF.LifeStyle=trainingDF.LifeStyle.str.decode(\"UTF-8\")"
      ],
      "execution_count": 0,
      "outputs": []
    },
    {
      "metadata": {
        "id": "kHooolW8lIIJ",
        "colab_type": "code",
        "colab": {}
      },
      "cell_type": "code",
      "source": [
        "trainingDF.label=trainingDF.label.str.decode(\"UTF-8\")"
      ],
      "execution_count": 0,
      "outputs": []
    },
    {
      "metadata": {
        "id": "RPbc0EjvpF4k",
        "colab_type": "code",
        "outputId": "7a4c85c2-4f04-4b77-8bad-b1466aeb8b01",
        "colab": {
          "base_uri": "https://localhost:8080/",
          "height": 204
        }
      },
      "cell_type": "code",
      "source": [
        "trainingDF.head()"
      ],
      "execution_count": 10,
      "outputs": [
        {
          "output_type": "execute_result",
          "data": {
            "text/html": [
              "<div>\n",
              "<style scoped>\n",
              "    .dataframe tbody tr th:only-of-type {\n",
              "        vertical-align: middle;\n",
              "    }\n",
              "\n",
              "    .dataframe tbody tr th {\n",
              "        vertical-align: top;\n",
              "    }\n",
              "\n",
              "    .dataframe thead th {\n",
              "        text-align: right;\n",
              "    }\n",
              "</style>\n",
              "<table border=\"1\" class=\"dataframe\">\n",
              "  <thead>\n",
              "    <tr style=\"text-align: right;\">\n",
              "      <th></th>\n",
              "      <th>Type</th>\n",
              "      <th>LifeStyle</th>\n",
              "      <th>Vacation</th>\n",
              "      <th>eCredit</th>\n",
              "      <th>salary</th>\n",
              "      <th>property</th>\n",
              "      <th>label</th>\n",
              "    </tr>\n",
              "  </thead>\n",
              "  <tbody>\n",
              "    <tr>\n",
              "      <th>0</th>\n",
              "      <td>student</td>\n",
              "      <td>spend&gt;saving</td>\n",
              "      <td>6.0</td>\n",
              "      <td>40.0</td>\n",
              "      <td>13.62</td>\n",
              "      <td>3.2804</td>\n",
              "      <td>C1</td>\n",
              "    </tr>\n",
              "    <tr>\n",
              "      <th>1</th>\n",
              "      <td>student</td>\n",
              "      <td>spend&gt;saving</td>\n",
              "      <td>11.0</td>\n",
              "      <td>21.0</td>\n",
              "      <td>15.32</td>\n",
              "      <td>2.0232</td>\n",
              "      <td>C1</td>\n",
              "    </tr>\n",
              "    <tr>\n",
              "      <th>2</th>\n",
              "      <td>student</td>\n",
              "      <td>spend&gt;saving</td>\n",
              "      <td>7.0</td>\n",
              "      <td>64.0</td>\n",
              "      <td>16.55</td>\n",
              "      <td>3.1202</td>\n",
              "      <td>C1</td>\n",
              "    </tr>\n",
              "    <tr>\n",
              "      <th>3</th>\n",
              "      <td>student</td>\n",
              "      <td>spend&gt;saving</td>\n",
              "      <td>3.0</td>\n",
              "      <td>47.0</td>\n",
              "      <td>15.71</td>\n",
              "      <td>3.4022</td>\n",
              "      <td>C1</td>\n",
              "    </tr>\n",
              "    <tr>\n",
              "      <th>4</th>\n",
              "      <td>student</td>\n",
              "      <td>spend&gt;saving</td>\n",
              "      <td>15.0</td>\n",
              "      <td>10.0</td>\n",
              "      <td>16.96</td>\n",
              "      <td>2.2825</td>\n",
              "      <td>C1</td>\n",
              "    </tr>\n",
              "  </tbody>\n",
              "</table>\n",
              "</div>"
            ],
            "text/plain": [
              "      Type     LifeStyle  Vacation  eCredit  salary  property label\n",
              "0  student  spend>saving       6.0     40.0   13.62    3.2804    C1\n",
              "1  student  spend>saving      11.0     21.0   15.32    2.0232    C1\n",
              "2  student  spend>saving       7.0     64.0   16.55    3.1202    C1\n",
              "3  student  spend>saving       3.0     47.0   15.71    3.4022    C1\n",
              "4  student  spend>saving      15.0     10.0   16.96    2.2825    C1"
            ]
          },
          "metadata": {
            "tags": []
          },
          "execution_count": 10
        }
      ]
    },
    {
      "metadata": {
        "id": "1i78oFCmpF42",
        "colab_type": "code",
        "colab": {}
      },
      "cell_type": "code",
      "source": [
        "minVal=trainingDF.Vacation.min()\n",
        "maxVal=trainingDF.Vacation.max()\n",
        "trainingDF.Vacation=trainingDF.Vacation.apply(lambda x:(x-minVal)/(maxVal-minVal))\n"
      ],
      "execution_count": 0,
      "outputs": []
    },
    {
      "metadata": {
        "id": "oEmCjWVLpF4-",
        "colab_type": "code",
        "colab": {}
      },
      "cell_type": "code",
      "source": [
        "minVal=trainingDF.eCredit.min()\n",
        "maxVal=trainingDF.eCredit.max()\n",
        "trainingDF.eCredit=trainingDF.eCredit.apply(lambda x:(x-minVal)/(maxVal-minVal))"
      ],
      "execution_count": 0,
      "outputs": []
    },
    {
      "metadata": {
        "id": "yybH-VCOpF5I",
        "colab_type": "code",
        "colab": {}
      },
      "cell_type": "code",
      "source": [
        "minVal=trainingDF.salary.min()\n",
        "maxVal=trainingDF.salary.max()\n",
        "trainingDF.salary=trainingDF.salary.apply(lambda x:(x-minVal)/(maxVal-minVal))\n",
        "\n",
        "minVal=trainingDF.property.min()\n",
        "maxVal=trainingDF.property.max()\n",
        "trainingDF.property=trainingDF.property.apply(lambda x:(x-minVal)/(maxVal-minVal))"
      ],
      "execution_count": 0,
      "outputs": []
    },
    {
      "metadata": {
        "id": "CsZSbXLApF5T",
        "colab_type": "code",
        "outputId": "e2be300b-ddd1-464e-de8e-a0fc511770ff",
        "colab": {
          "base_uri": "https://localhost:8080/",
          "height": 204
        }
      },
      "cell_type": "code",
      "source": [
        "trainingDF.head()"
      ],
      "execution_count": 14,
      "outputs": [
        {
          "output_type": "execute_result",
          "data": {
            "text/html": [
              "<div>\n",
              "<style scoped>\n",
              "    .dataframe tbody tr th:only-of-type {\n",
              "        vertical-align: middle;\n",
              "    }\n",
              "\n",
              "    .dataframe tbody tr th {\n",
              "        vertical-align: top;\n",
              "    }\n",
              "\n",
              "    .dataframe thead th {\n",
              "        text-align: right;\n",
              "    }\n",
              "</style>\n",
              "<table border=\"1\" class=\"dataframe\">\n",
              "  <thead>\n",
              "    <tr style=\"text-align: right;\">\n",
              "      <th></th>\n",
              "      <th>Type</th>\n",
              "      <th>LifeStyle</th>\n",
              "      <th>Vacation</th>\n",
              "      <th>eCredit</th>\n",
              "      <th>salary</th>\n",
              "      <th>property</th>\n",
              "      <th>label</th>\n",
              "    </tr>\n",
              "  </thead>\n",
              "  <tbody>\n",
              "    <tr>\n",
              "      <th>0</th>\n",
              "      <td>student</td>\n",
              "      <td>spend&gt;saving</td>\n",
              "      <td>0.079365</td>\n",
              "      <td>0.107558</td>\n",
              "      <td>0.219960</td>\n",
              "      <td>0.183167</td>\n",
              "      <td>C1</td>\n",
              "    </tr>\n",
              "    <tr>\n",
              "      <th>1</th>\n",
              "      <td>student</td>\n",
              "      <td>spend&gt;saving</td>\n",
              "      <td>0.158730</td>\n",
              "      <td>0.052326</td>\n",
              "      <td>0.293102</td>\n",
              "      <td>0.112797</td>\n",
              "      <td>C1</td>\n",
              "    </tr>\n",
              "    <tr>\n",
              "      <th>2</th>\n",
              "      <td>student</td>\n",
              "      <td>spend&gt;saving</td>\n",
              "      <td>0.095238</td>\n",
              "      <td>0.177326</td>\n",
              "      <td>0.346023</td>\n",
              "      <td>0.174200</td>\n",
              "      <td>C1</td>\n",
              "    </tr>\n",
              "    <tr>\n",
              "      <th>3</th>\n",
              "      <td>student</td>\n",
              "      <td>spend&gt;saving</td>\n",
              "      <td>0.031746</td>\n",
              "      <td>0.127907</td>\n",
              "      <td>0.309882</td>\n",
              "      <td>0.189984</td>\n",
              "      <td>C1</td>\n",
              "    </tr>\n",
              "    <tr>\n",
              "      <th>4</th>\n",
              "      <td>student</td>\n",
              "      <td>spend&gt;saving</td>\n",
              "      <td>0.222222</td>\n",
              "      <td>0.020349</td>\n",
              "      <td>0.363663</td>\n",
              "      <td>0.127311</td>\n",
              "      <td>C1</td>\n",
              "    </tr>\n",
              "  </tbody>\n",
              "</table>\n",
              "</div>"
            ],
            "text/plain": [
              "      Type     LifeStyle  Vacation   eCredit    salary  property label\n",
              "0  student  spend>saving  0.079365  0.107558  0.219960  0.183167    C1\n",
              "1  student  spend>saving  0.158730  0.052326  0.293102  0.112797    C1\n",
              "2  student  spend>saving  0.095238  0.177326  0.346023  0.174200    C1\n",
              "3  student  spend>saving  0.031746  0.127907  0.309882  0.189984    C1\n",
              "4  student  spend>saving  0.222222  0.020349  0.363663  0.127311    C1"
            ]
          },
          "metadata": {
            "tags": []
          },
          "execution_count": 14
        }
      ]
    },
    {
      "metadata": {
        "id": "XJFITPfUpF5p",
        "colab_type": "code",
        "colab": {}
      },
      "cell_type": "code",
      "source": [
        "testingDF.Type=testingDF.Type.str.decode(\"UTF-8\")"
      ],
      "execution_count": 0,
      "outputs": []
    },
    {
      "metadata": {
        "id": "IoYhC-whpF5x",
        "colab_type": "code",
        "colab": {}
      },
      "cell_type": "code",
      "source": [
        "testingDF.LifeStyle=testingDF.LifeStyle.str.decode(\"UTF-8\")"
      ],
      "execution_count": 0,
      "outputs": []
    },
    {
      "metadata": {
        "id": "R-ju5UuzpF5_",
        "colab_type": "code",
        "colab": {}
      },
      "cell_type": "code",
      "source": [
        "testingDF.label=testingDF.label.str.decode(\"UTF-8\")"
      ],
      "execution_count": 0,
      "outputs": []
    },
    {
      "metadata": {
        "id": "o5D70o3LpF6S",
        "colab_type": "code",
        "colab": {}
      },
      "cell_type": "code",
      "source": [
        "minVal=testingDF.Vacation.min()\n",
        "maxVal=testingDF.Vacation.max()\n",
        "testingDF.Vacation=testingDF.Vacation.apply(lambda x:(x-minVal)/(maxVal-minVal))\n"
      ],
      "execution_count": 0,
      "outputs": []
    },
    {
      "metadata": {
        "id": "1UYAVbJVpF6h",
        "colab_type": "code",
        "colab": {}
      },
      "cell_type": "code",
      "source": [
        "minVal=testingDF.eCredit.min()\n",
        "maxVal=testingDF.eCredit.max()\n",
        "testingDF.eCredit=testingDF.eCredit.apply(lambda x:(x-minVal)/(maxVal-minVal))"
      ],
      "execution_count": 0,
      "outputs": []
    },
    {
      "metadata": {
        "id": "2M2ruS1MpF6y",
        "colab_type": "code",
        "colab": {}
      },
      "cell_type": "code",
      "source": [
        "minVal=testingDF.salary.min()\n",
        "maxVal=testingDF.salary.max()\n",
        "testingDF.salary=testingDF.salary.apply(lambda x:(x-minVal)/(maxVal-minVal))"
      ],
      "execution_count": 0,
      "outputs": []
    },
    {
      "metadata": {
        "id": "FBQnoSgBpF7E",
        "colab_type": "code",
        "colab": {}
      },
      "cell_type": "code",
      "source": [
        "minVal=testingDF.property.min()\n",
        "maxVal=testingDF.property.max()\n",
        "testingDF.property=testingDF.property.apply(lambda x:(x-minVal)/(maxVal-minVal))"
      ],
      "execution_count": 0,
      "outputs": []
    },
    {
      "metadata": {
        "id": "lHCVdAM1pF7Q",
        "colab_type": "code",
        "outputId": "2db1e02d-0e53-43cd-fb48-50c70033f222",
        "colab": {
          "base_uri": "https://localhost:8080/",
          "height": 204
        }
      },
      "cell_type": "code",
      "source": [
        "testingDF.head()"
      ],
      "execution_count": 22,
      "outputs": [
        {
          "output_type": "execute_result",
          "data": {
            "text/html": [
              "<div>\n",
              "<style scoped>\n",
              "    .dataframe tbody tr th:only-of-type {\n",
              "        vertical-align: middle;\n",
              "    }\n",
              "\n",
              "    .dataframe tbody tr th {\n",
              "        vertical-align: top;\n",
              "    }\n",
              "\n",
              "    .dataframe thead th {\n",
              "        text-align: right;\n",
              "    }\n",
              "</style>\n",
              "<table border=\"1\" class=\"dataframe\">\n",
              "  <thead>\n",
              "    <tr style=\"text-align: right;\">\n",
              "      <th></th>\n",
              "      <th>Type</th>\n",
              "      <th>LifeStyle</th>\n",
              "      <th>Vacation</th>\n",
              "      <th>eCredit</th>\n",
              "      <th>salary</th>\n",
              "      <th>property</th>\n",
              "      <th>label</th>\n",
              "    </tr>\n",
              "  </thead>\n",
              "  <tbody>\n",
              "    <tr>\n",
              "      <th>0</th>\n",
              "      <td>student</td>\n",
              "      <td>spend&lt;saving</td>\n",
              "      <td>0.20</td>\n",
              "      <td>0.058824</td>\n",
              "      <td>0.104637</td>\n",
              "      <td>0.398926</td>\n",
              "      <td>C1</td>\n",
              "    </tr>\n",
              "    <tr>\n",
              "      <th>1</th>\n",
              "      <td>student</td>\n",
              "      <td>spend&gt;&gt;saving</td>\n",
              "      <td>0.54</td>\n",
              "      <td>0.021008</td>\n",
              "      <td>0.175059</td>\n",
              "      <td>0.243041</td>\n",
              "      <td>C1</td>\n",
              "    </tr>\n",
              "    <tr>\n",
              "      <th>2</th>\n",
              "      <td>student</td>\n",
              "      <td>spend&lt;&lt;saving</td>\n",
              "      <td>0.52</td>\n",
              "      <td>0.231092</td>\n",
              "      <td>0.138339</td>\n",
              "      <td>0.085992</td>\n",
              "      <td>C1</td>\n",
              "    </tr>\n",
              "    <tr>\n",
              "      <th>3</th>\n",
              "      <td>engineer</td>\n",
              "      <td>spend&gt;saving</td>\n",
              "      <td>0.26</td>\n",
              "      <td>0.151261</td>\n",
              "      <td>0.430086</td>\n",
              "      <td>0.116229</td>\n",
              "      <td>C1</td>\n",
              "    </tr>\n",
              "    <tr>\n",
              "      <th>4</th>\n",
              "      <td>librarian</td>\n",
              "      <td>spend&lt;saving</td>\n",
              "      <td>0.00</td>\n",
              "      <td>0.016807</td>\n",
              "      <td>0.352657</td>\n",
              "      <td>0.025714</td>\n",
              "      <td>C1</td>\n",
              "    </tr>\n",
              "  </tbody>\n",
              "</table>\n",
              "</div>"
            ],
            "text/plain": [
              "        Type      LifeStyle  Vacation   eCredit    salary  property label\n",
              "0    student   spend<saving      0.20  0.058824  0.104637  0.398926    C1\n",
              "1    student  spend>>saving      0.54  0.021008  0.175059  0.243041    C1\n",
              "2    student  spend<<saving      0.52  0.231092  0.138339  0.085992    C1\n",
              "3   engineer   spend>saving      0.26  0.151261  0.430086  0.116229    C1\n",
              "4  librarian   spend<saving      0.00  0.016807  0.352657  0.025714    C1"
            ]
          },
          "metadata": {
            "tags": []
          },
          "execution_count": 22
        }
      ]
    },
    {
      "metadata": {
        "id": "fSusXGlc54vj",
        "colab_type": "code",
        "colab": {}
      },
      "cell_type": "code",
      "source": [
        "trainingDF = pd.concat([trainingDF,pd.get_dummies(trainingDF['Type'], prefix='Type')],axis=1)\n",
        "trainingDF = pd.concat([trainingDF,pd.get_dummies(trainingDF['LifeStyle'], prefix='Type')],axis=1)\n",
        "trainingDF.drop(['Type'],axis=1, inplace=True)\n",
        "trainingDF.drop(['LifeStyle'],axis=1, inplace=True)"
      ],
      "execution_count": 0,
      "outputs": []
    },
    {
      "metadata": {
        "id": "H4AY0dxT59dh",
        "colab_type": "code",
        "outputId": "eb33831a-c5ce-4bb4-c2a8-70066f2fb527",
        "colab": {
          "base_uri": "https://localhost:8080/",
          "height": 224
        }
      },
      "cell_type": "code",
      "source": [
        "outcol=trainingDF['label']\n",
        "trainingDF.drop(['label'],axis=1,inplace=True)\n",
        "trainingDF['label']=outcol\n",
        "trainingDF.head()"
      ],
      "execution_count": 24,
      "outputs": [
        {
          "output_type": "execute_result",
          "data": {
            "text/html": [
              "<div>\n",
              "<style scoped>\n",
              "    .dataframe tbody tr th:only-of-type {\n",
              "        vertical-align: middle;\n",
              "    }\n",
              "\n",
              "    .dataframe tbody tr th {\n",
              "        vertical-align: top;\n",
              "    }\n",
              "\n",
              "    .dataframe thead th {\n",
              "        text-align: right;\n",
              "    }\n",
              "</style>\n",
              "<table border=\"1\" class=\"dataframe\">\n",
              "  <thead>\n",
              "    <tr style=\"text-align: right;\">\n",
              "      <th></th>\n",
              "      <th>Vacation</th>\n",
              "      <th>eCredit</th>\n",
              "      <th>salary</th>\n",
              "      <th>property</th>\n",
              "      <th>Type_doctor</th>\n",
              "      <th>Type_engineer</th>\n",
              "      <th>Type_librarian</th>\n",
              "      <th>Type_professor</th>\n",
              "      <th>Type_student</th>\n",
              "      <th>Type_spend&lt;&lt;saving</th>\n",
              "      <th>Type_spend&lt;saving</th>\n",
              "      <th>Type_spend&gt;&gt;saving</th>\n",
              "      <th>Type_spend&gt;saving</th>\n",
              "      <th>label</th>\n",
              "    </tr>\n",
              "  </thead>\n",
              "  <tbody>\n",
              "    <tr>\n",
              "      <th>0</th>\n",
              "      <td>0.079365</td>\n",
              "      <td>0.107558</td>\n",
              "      <td>0.219960</td>\n",
              "      <td>0.183167</td>\n",
              "      <td>0</td>\n",
              "      <td>0</td>\n",
              "      <td>0</td>\n",
              "      <td>0</td>\n",
              "      <td>1</td>\n",
              "      <td>0</td>\n",
              "      <td>0</td>\n",
              "      <td>0</td>\n",
              "      <td>1</td>\n",
              "      <td>C1</td>\n",
              "    </tr>\n",
              "    <tr>\n",
              "      <th>1</th>\n",
              "      <td>0.158730</td>\n",
              "      <td>0.052326</td>\n",
              "      <td>0.293102</td>\n",
              "      <td>0.112797</td>\n",
              "      <td>0</td>\n",
              "      <td>0</td>\n",
              "      <td>0</td>\n",
              "      <td>0</td>\n",
              "      <td>1</td>\n",
              "      <td>0</td>\n",
              "      <td>0</td>\n",
              "      <td>0</td>\n",
              "      <td>1</td>\n",
              "      <td>C1</td>\n",
              "    </tr>\n",
              "    <tr>\n",
              "      <th>2</th>\n",
              "      <td>0.095238</td>\n",
              "      <td>0.177326</td>\n",
              "      <td>0.346023</td>\n",
              "      <td>0.174200</td>\n",
              "      <td>0</td>\n",
              "      <td>0</td>\n",
              "      <td>0</td>\n",
              "      <td>0</td>\n",
              "      <td>1</td>\n",
              "      <td>0</td>\n",
              "      <td>0</td>\n",
              "      <td>0</td>\n",
              "      <td>1</td>\n",
              "      <td>C1</td>\n",
              "    </tr>\n",
              "    <tr>\n",
              "      <th>3</th>\n",
              "      <td>0.031746</td>\n",
              "      <td>0.127907</td>\n",
              "      <td>0.309882</td>\n",
              "      <td>0.189984</td>\n",
              "      <td>0</td>\n",
              "      <td>0</td>\n",
              "      <td>0</td>\n",
              "      <td>0</td>\n",
              "      <td>1</td>\n",
              "      <td>0</td>\n",
              "      <td>0</td>\n",
              "      <td>0</td>\n",
              "      <td>1</td>\n",
              "      <td>C1</td>\n",
              "    </tr>\n",
              "    <tr>\n",
              "      <th>4</th>\n",
              "      <td>0.222222</td>\n",
              "      <td>0.020349</td>\n",
              "      <td>0.363663</td>\n",
              "      <td>0.127311</td>\n",
              "      <td>0</td>\n",
              "      <td>0</td>\n",
              "      <td>0</td>\n",
              "      <td>0</td>\n",
              "      <td>1</td>\n",
              "      <td>0</td>\n",
              "      <td>0</td>\n",
              "      <td>0</td>\n",
              "      <td>1</td>\n",
              "      <td>C1</td>\n",
              "    </tr>\n",
              "  </tbody>\n",
              "</table>\n",
              "</div>"
            ],
            "text/plain": [
              "   Vacation   eCredit    salary  property  Type_doctor  Type_engineer  \\\n",
              "0  0.079365  0.107558  0.219960  0.183167            0              0   \n",
              "1  0.158730  0.052326  0.293102  0.112797            0              0   \n",
              "2  0.095238  0.177326  0.346023  0.174200            0              0   \n",
              "3  0.031746  0.127907  0.309882  0.189984            0              0   \n",
              "4  0.222222  0.020349  0.363663  0.127311            0              0   \n",
              "\n",
              "   Type_librarian  Type_professor  Type_student  Type_spend<<saving  \\\n",
              "0               0               0             1                   0   \n",
              "1               0               0             1                   0   \n",
              "2               0               0             1                   0   \n",
              "3               0               0             1                   0   \n",
              "4               0               0             1                   0   \n",
              "\n",
              "   Type_spend<saving  Type_spend>>saving  Type_spend>saving label  \n",
              "0                  0                   0                  1    C1  \n",
              "1                  0                   0                  1    C1  \n",
              "2                  0                   0                  1    C1  \n",
              "3                  0                   0                  1    C1  \n",
              "4                  0                   0                  1    C1  "
            ]
          },
          "metadata": {
            "tags": []
          },
          "execution_count": 24
        }
      ]
    },
    {
      "metadata": {
        "id": "kblZAshu6KZL",
        "colab_type": "code",
        "outputId": "8199cf1a-c9f3-4ec5-cd8e-92fc40318e80",
        "colab": {
          "base_uri": "https://localhost:8080/",
          "height": 204
        }
      },
      "cell_type": "code",
      "source": [
        "testingDF.head()"
      ],
      "execution_count": 25,
      "outputs": [
        {
          "output_type": "execute_result",
          "data": {
            "text/html": [
              "<div>\n",
              "<style scoped>\n",
              "    .dataframe tbody tr th:only-of-type {\n",
              "        vertical-align: middle;\n",
              "    }\n",
              "\n",
              "    .dataframe tbody tr th {\n",
              "        vertical-align: top;\n",
              "    }\n",
              "\n",
              "    .dataframe thead th {\n",
              "        text-align: right;\n",
              "    }\n",
              "</style>\n",
              "<table border=\"1\" class=\"dataframe\">\n",
              "  <thead>\n",
              "    <tr style=\"text-align: right;\">\n",
              "      <th></th>\n",
              "      <th>Type</th>\n",
              "      <th>LifeStyle</th>\n",
              "      <th>Vacation</th>\n",
              "      <th>eCredit</th>\n",
              "      <th>salary</th>\n",
              "      <th>property</th>\n",
              "      <th>label</th>\n",
              "    </tr>\n",
              "  </thead>\n",
              "  <tbody>\n",
              "    <tr>\n",
              "      <th>0</th>\n",
              "      <td>student</td>\n",
              "      <td>spend&lt;saving</td>\n",
              "      <td>0.20</td>\n",
              "      <td>0.058824</td>\n",
              "      <td>0.104637</td>\n",
              "      <td>0.398926</td>\n",
              "      <td>C1</td>\n",
              "    </tr>\n",
              "    <tr>\n",
              "      <th>1</th>\n",
              "      <td>student</td>\n",
              "      <td>spend&gt;&gt;saving</td>\n",
              "      <td>0.54</td>\n",
              "      <td>0.021008</td>\n",
              "      <td>0.175059</td>\n",
              "      <td>0.243041</td>\n",
              "      <td>C1</td>\n",
              "    </tr>\n",
              "    <tr>\n",
              "      <th>2</th>\n",
              "      <td>student</td>\n",
              "      <td>spend&lt;&lt;saving</td>\n",
              "      <td>0.52</td>\n",
              "      <td>0.231092</td>\n",
              "      <td>0.138339</td>\n",
              "      <td>0.085992</td>\n",
              "      <td>C1</td>\n",
              "    </tr>\n",
              "    <tr>\n",
              "      <th>3</th>\n",
              "      <td>engineer</td>\n",
              "      <td>spend&gt;saving</td>\n",
              "      <td>0.26</td>\n",
              "      <td>0.151261</td>\n",
              "      <td>0.430086</td>\n",
              "      <td>0.116229</td>\n",
              "      <td>C1</td>\n",
              "    </tr>\n",
              "    <tr>\n",
              "      <th>4</th>\n",
              "      <td>librarian</td>\n",
              "      <td>spend&lt;saving</td>\n",
              "      <td>0.00</td>\n",
              "      <td>0.016807</td>\n",
              "      <td>0.352657</td>\n",
              "      <td>0.025714</td>\n",
              "      <td>C1</td>\n",
              "    </tr>\n",
              "  </tbody>\n",
              "</table>\n",
              "</div>"
            ],
            "text/plain": [
              "        Type      LifeStyle  Vacation   eCredit    salary  property label\n",
              "0    student   spend<saving      0.20  0.058824  0.104637  0.398926    C1\n",
              "1    student  spend>>saving      0.54  0.021008  0.175059  0.243041    C1\n",
              "2    student  spend<<saving      0.52  0.231092  0.138339  0.085992    C1\n",
              "3   engineer   spend>saving      0.26  0.151261  0.430086  0.116229    C1\n",
              "4  librarian   spend<saving      0.00  0.016807  0.352657  0.025714    C1"
            ]
          },
          "metadata": {
            "tags": []
          },
          "execution_count": 25
        }
      ]
    },
    {
      "metadata": {
        "id": "gElbQqqN5-op",
        "colab_type": "code",
        "colab": {}
      },
      "cell_type": "code",
      "source": [
        "testingDF = pd.concat([testingDF,pd.get_dummies(testingDF['Type'], prefix='Type')],axis=1)\n",
        "testingDF = pd.concat([testingDF,pd.get_dummies(testingDF['LifeStyle'], prefix='Type')],axis=1)\n",
        "testingDF.drop(['Type'],axis=1, inplace=True)\n",
        "testingDF.drop(['LifeStyle'],axis=1, inplace=True)"
      ],
      "execution_count": 0,
      "outputs": []
    },
    {
      "metadata": {
        "id": "4MkcYL866BrX",
        "colab_type": "code",
        "outputId": "e90b3f07-22de-4efd-b1cf-3ab2a4ea0005",
        "colab": {
          "base_uri": "https://localhost:8080/",
          "height": 224
        }
      },
      "cell_type": "code",
      "source": [
        "outcol=testingDF['label']\n",
        "testingDF.drop(['label'],axis=1,inplace=True)\n",
        "testingDF['label']=outcol\n",
        "testingDF.head()"
      ],
      "execution_count": 27,
      "outputs": [
        {
          "output_type": "execute_result",
          "data": {
            "text/html": [
              "<div>\n",
              "<style scoped>\n",
              "    .dataframe tbody tr th:only-of-type {\n",
              "        vertical-align: middle;\n",
              "    }\n",
              "\n",
              "    .dataframe tbody tr th {\n",
              "        vertical-align: top;\n",
              "    }\n",
              "\n",
              "    .dataframe thead th {\n",
              "        text-align: right;\n",
              "    }\n",
              "</style>\n",
              "<table border=\"1\" class=\"dataframe\">\n",
              "  <thead>\n",
              "    <tr style=\"text-align: right;\">\n",
              "      <th></th>\n",
              "      <th>Vacation</th>\n",
              "      <th>eCredit</th>\n",
              "      <th>salary</th>\n",
              "      <th>property</th>\n",
              "      <th>Type_doctor</th>\n",
              "      <th>Type_engineer</th>\n",
              "      <th>Type_librarian</th>\n",
              "      <th>Type_professor</th>\n",
              "      <th>Type_student</th>\n",
              "      <th>Type_spend&lt;&lt;saving</th>\n",
              "      <th>Type_spend&lt;saving</th>\n",
              "      <th>Type_spend&gt;&gt;saving</th>\n",
              "      <th>Type_spend&gt;saving</th>\n",
              "      <th>label</th>\n",
              "    </tr>\n",
              "  </thead>\n",
              "  <tbody>\n",
              "    <tr>\n",
              "      <th>0</th>\n",
              "      <td>0.20</td>\n",
              "      <td>0.058824</td>\n",
              "      <td>0.104637</td>\n",
              "      <td>0.398926</td>\n",
              "      <td>0</td>\n",
              "      <td>0</td>\n",
              "      <td>0</td>\n",
              "      <td>0</td>\n",
              "      <td>1</td>\n",
              "      <td>0</td>\n",
              "      <td>1</td>\n",
              "      <td>0</td>\n",
              "      <td>0</td>\n",
              "      <td>C1</td>\n",
              "    </tr>\n",
              "    <tr>\n",
              "      <th>1</th>\n",
              "      <td>0.54</td>\n",
              "      <td>0.021008</td>\n",
              "      <td>0.175059</td>\n",
              "      <td>0.243041</td>\n",
              "      <td>0</td>\n",
              "      <td>0</td>\n",
              "      <td>0</td>\n",
              "      <td>0</td>\n",
              "      <td>1</td>\n",
              "      <td>0</td>\n",
              "      <td>0</td>\n",
              "      <td>1</td>\n",
              "      <td>0</td>\n",
              "      <td>C1</td>\n",
              "    </tr>\n",
              "    <tr>\n",
              "      <th>2</th>\n",
              "      <td>0.52</td>\n",
              "      <td>0.231092</td>\n",
              "      <td>0.138339</td>\n",
              "      <td>0.085992</td>\n",
              "      <td>0</td>\n",
              "      <td>0</td>\n",
              "      <td>0</td>\n",
              "      <td>0</td>\n",
              "      <td>1</td>\n",
              "      <td>1</td>\n",
              "      <td>0</td>\n",
              "      <td>0</td>\n",
              "      <td>0</td>\n",
              "      <td>C1</td>\n",
              "    </tr>\n",
              "    <tr>\n",
              "      <th>3</th>\n",
              "      <td>0.26</td>\n",
              "      <td>0.151261</td>\n",
              "      <td>0.430086</td>\n",
              "      <td>0.116229</td>\n",
              "      <td>0</td>\n",
              "      <td>1</td>\n",
              "      <td>0</td>\n",
              "      <td>0</td>\n",
              "      <td>0</td>\n",
              "      <td>0</td>\n",
              "      <td>0</td>\n",
              "      <td>0</td>\n",
              "      <td>1</td>\n",
              "      <td>C1</td>\n",
              "    </tr>\n",
              "    <tr>\n",
              "      <th>4</th>\n",
              "      <td>0.00</td>\n",
              "      <td>0.016807</td>\n",
              "      <td>0.352657</td>\n",
              "      <td>0.025714</td>\n",
              "      <td>0</td>\n",
              "      <td>0</td>\n",
              "      <td>1</td>\n",
              "      <td>0</td>\n",
              "      <td>0</td>\n",
              "      <td>0</td>\n",
              "      <td>1</td>\n",
              "      <td>0</td>\n",
              "      <td>0</td>\n",
              "      <td>C1</td>\n",
              "    </tr>\n",
              "  </tbody>\n",
              "</table>\n",
              "</div>"
            ],
            "text/plain": [
              "   Vacation   eCredit    salary  property  Type_doctor  Type_engineer  \\\n",
              "0      0.20  0.058824  0.104637  0.398926            0              0   \n",
              "1      0.54  0.021008  0.175059  0.243041            0              0   \n",
              "2      0.52  0.231092  0.138339  0.085992            0              0   \n",
              "3      0.26  0.151261  0.430086  0.116229            0              1   \n",
              "4      0.00  0.016807  0.352657  0.025714            0              0   \n",
              "\n",
              "   Type_librarian  Type_professor  Type_student  Type_spend<<saving  \\\n",
              "0               0               0             1                   0   \n",
              "1               0               0             1                   0   \n",
              "2               0               0             1                   1   \n",
              "3               0               0             0                   0   \n",
              "4               1               0             0                   0   \n",
              "\n",
              "   Type_spend<saving  Type_spend>>saving  Type_spend>saving label  \n",
              "0                  1                   0                  0    C1  \n",
              "1                  0                   1                  0    C1  \n",
              "2                  0                   0                  0    C1  \n",
              "3                  0                   0                  1    C1  \n",
              "4                  1                   0                  0    C1  "
            ]
          },
          "metadata": {
            "tags": []
          },
          "execution_count": 27
        }
      ]
    },
    {
      "metadata": {
        "id": "EEEctkonpF7i",
        "colab_type": "code",
        "colab": {}
      },
      "cell_type": "code",
      "source": [
        "  def euclideanDistance(instance1, instance2, length):\n",
        "    distance = 0\n",
        "    for x in range(0,length):\n",
        "        distance += pow((instance1[x] - instance2[x]), 2)\n",
        "    return math.sqrt(distance)\n",
        "  \n",
        "  def getNeighbors(trainingSet, testInstance, k):\n",
        "    distances = []\n",
        "    length = len(testInstance)-1\n",
        "    for x in range(len(trainingSet)):\n",
        "        dist = euclideanDistance(testInstance, trainingSet[x], length)\n",
        "        distances.append((trainingSet[x], dist))\n",
        "    distances.sort(key=operator.itemgetter(1))\n",
        "    neighbors = []\n",
        "    for x in range(k):\n",
        "        neighbors.append(distances[x][0])\n",
        "    return neighbors\n",
        " \n",
        "  def getResponse(neighbors):\n",
        "    classVotes = {}\n",
        "    for x in range(len(neighbors)):\n",
        "        response = neighbors[x][-1]\n",
        "        if response in classVotes:\n",
        "            classVotes[response] += 1\n",
        "        else:\n",
        "            classVotes[response] = 1\n",
        "    sortedVotes = sorted(classVotes.items(), key=operator.itemgetter(1), reverse=True)\n",
        "    return sortedVotes[0][0]\n",
        " \n",
        "  def getAccuracy(testSet, predictions):\n",
        "    correct = 0\n",
        "    for x in range(len(testSet)):\n",
        "        if testSet[x][-1] == predictions[x]:\n",
        "            correct += 1\n",
        "    return (correct/float(len(testSet))) * 100.0\n"
      ],
      "execution_count": 0,
      "outputs": []
    },
    {
      "metadata": {
        "id": "1erOrRUepF7o",
        "colab_type": "code",
        "colab": {}
      },
      "cell_type": "code",
      "source": [
        "def knn(k):\n",
        "    predictions=[]\n",
        "    for x in range(len(testingDF)):\n",
        "        neighbors = getNeighbors(trainingDF.values, testingDF.values[x], k)\n",
        "        result = getResponse(neighbors)\n",
        "        predictions.append(result)\n",
        "    accuracy = getAccuracy(testingDF.values, predictions)\n",
        "    print('Accuracy: ' + repr(accuracy) + '%','with k=',k)\n",
        "    return accuracy"
      ],
      "execution_count": 0,
      "outputs": []
    },
    {
      "metadata": {
        "id": "VrjzYBpRpF75",
        "colab_type": "code",
        "outputId": "26f43951-9333-4cf6-d161-543657a3cf3c",
        "colab": {
          "base_uri": "https://localhost:8080/",
          "height": 867
        }
      },
      "cell_type": "code",
      "source": [
        "acc_list=[]\n",
        "k_list=[]\n",
        "for i in range(1,100,2):\n",
        "  acc_list.append(knn(i))\n",
        "  k_list.append(i)"
      ],
      "execution_count": 30,
      "outputs": [
        {
          "output_type": "stream",
          "text": [
            "Accuracy: 23.809523809523807% with k= 1\n",
            "Accuracy: 28.57142857142857% with k= 3\n",
            "Accuracy: 28.57142857142857% with k= 5\n",
            "Accuracy: 28.57142857142857% with k= 7\n",
            "Accuracy: 23.809523809523807% with k= 9\n",
            "Accuracy: 23.809523809523807% with k= 11\n",
            "Accuracy: 19.047619047619047% with k= 13\n",
            "Accuracy: 14.285714285714285% with k= 15\n",
            "Accuracy: 19.047619047619047% with k= 17\n",
            "Accuracy: 19.047619047619047% with k= 19\n",
            "Accuracy: 19.047619047619047% with k= 21\n",
            "Accuracy: 19.047619047619047% with k= 23\n",
            "Accuracy: 19.047619047619047% with k= 25\n",
            "Accuracy: 19.047619047619047% with k= 27\n",
            "Accuracy: 19.047619047619047% with k= 29\n",
            "Accuracy: 19.047619047619047% with k= 31\n",
            "Accuracy: 19.047619047619047% with k= 33\n",
            "Accuracy: 14.285714285714285% with k= 35\n",
            "Accuracy: 14.285714285714285% with k= 37\n",
            "Accuracy: 19.047619047619047% with k= 39\n",
            "Accuracy: 19.047619047619047% with k= 41\n",
            "Accuracy: 19.047619047619047% with k= 43\n",
            "Accuracy: 19.047619047619047% with k= 45\n",
            "Accuracy: 19.047619047619047% with k= 47\n",
            "Accuracy: 19.047619047619047% with k= 49\n",
            "Accuracy: 19.047619047619047% with k= 51\n",
            "Accuracy: 23.809523809523807% with k= 53\n",
            "Accuracy: 33.33333333333333% with k= 55\n",
            "Accuracy: 28.57142857142857% with k= 57\n",
            "Accuracy: 28.57142857142857% with k= 59\n",
            "Accuracy: 28.57142857142857% with k= 61\n",
            "Accuracy: 23.809523809523807% with k= 63\n",
            "Accuracy: 19.047619047619047% with k= 65\n",
            "Accuracy: 19.047619047619047% with k= 67\n",
            "Accuracy: 19.047619047619047% with k= 69\n",
            "Accuracy: 19.047619047619047% with k= 71\n",
            "Accuracy: 23.809523809523807% with k= 73\n",
            "Accuracy: 14.285714285714285% with k= 75\n",
            "Accuracy: 19.047619047619047% with k= 77\n",
            "Accuracy: 14.285714285714285% with k= 79\n",
            "Accuracy: 19.047619047619047% with k= 81\n",
            "Accuracy: 19.047619047619047% with k= 83\n",
            "Accuracy: 14.285714285714285% with k= 85\n",
            "Accuracy: 14.285714285714285% with k= 87\n",
            "Accuracy: 9.523809523809524% with k= 89\n",
            "Accuracy: 9.523809523809524% with k= 91\n",
            "Accuracy: 9.523809523809524% with k= 93\n",
            "Accuracy: 14.285714285714285% with k= 95\n",
            "Accuracy: 9.523809523809524% with k= 97\n",
            "Accuracy: 9.523809523809524% with k= 99\n"
          ],
          "name": "stdout"
        }
      ]
    },
    {
      "metadata": {
        "id": "n_X5pQppEpG1",
        "colab_type": "code",
        "outputId": "e4991564-4c12-4b95-fbb3-7f171c3cc6fb",
        "colab": {
          "base_uri": "https://localhost:8080/",
          "height": 361
        }
      },
      "cell_type": "code",
      "source": [
        "plt.plot(k_list,acc_list,color='green')\n",
        "plt.xlabel('K-VALUE')\n",
        "plt.ylabel('ACCURACY')\n",
        "plt.grid(True)\n",
        "plt.show()"
      ],
      "execution_count": 31,
      "outputs": [
        {
          "output_type": "display_data",
          "data": {
            "image/png": "[encoded data removed]",
            "text/plain": [
              "<matplotlib.figure.Figure at 0x7fbe5c9d6860>"
            ]
          },
          "metadata": {
            "tags": []
          }
        }
      ]
    },
    {
      "metadata": {
        "id": "j4nJ7zIOpF8E",
        "colab_type": "code",
        "colab": {}
      },
      "cell_type": "code",
      "source": [
        "TotalDF=pd.concat([trainingDF, testingDF], ignore_index=True)"
      ],
      "execution_count": 0,
      "outputs": []
    },
    {
      "metadata": {
        "id": "a5ZaylcHpF8L",
        "colab_type": "code",
        "outputId": "669a6b77-9b30-4c28-e794-5c200d4243dc",
        "colab": {
          "base_uri": "https://localhost:8080/",
          "height": 224
        }
      },
      "cell_type": "code",
      "source": [
        "TotalDF.head()"
      ],
      "execution_count": 33,
      "outputs": [
        {
          "output_type": "execute_result",
          "data": {
            "text/html": [
              "<div>\n",
              "<style scoped>\n",
              "    .dataframe tbody tr th:only-of-type {\n",
              "        vertical-align: middle;\n",
              "    }\n",
              "\n",
              "    .dataframe tbody tr th {\n",
              "        vertical-align: top;\n",
              "    }\n",
              "\n",
              "    .dataframe thead th {\n",
              "        text-align: right;\n",
              "    }\n",
              "</style>\n",
              "<table border=\"1\" class=\"dataframe\">\n",
              "  <thead>\n",
              "    <tr style=\"text-align: right;\">\n",
              "      <th></th>\n",
              "      <th>Vacation</th>\n",
              "      <th>eCredit</th>\n",
              "      <th>salary</th>\n",
              "      <th>property</th>\n",
              "      <th>Type_doctor</th>\n",
              "      <th>Type_engineer</th>\n",
              "      <th>Type_librarian</th>\n",
              "      <th>Type_professor</th>\n",
              "      <th>Type_student</th>\n",
              "      <th>Type_spend&lt;&lt;saving</th>\n",
              "      <th>Type_spend&lt;saving</th>\n",
              "      <th>Type_spend&gt;&gt;saving</th>\n",
              "      <th>Type_spend&gt;saving</th>\n",
              "      <th>label</th>\n",
              "    </tr>\n",
              "  </thead>\n",
              "  <tbody>\n",
              "    <tr>\n",
              "      <th>0</th>\n",
              "      <td>0.079365</td>\n",
              "      <td>0.107558</td>\n",
              "      <td>0.219960</td>\n",
              "      <td>0.183167</td>\n",
              "      <td>0</td>\n",
              "      <td>0</td>\n",
              "      <td>0</td>\n",
              "      <td>0</td>\n",
              "      <td>1</td>\n",
              "      <td>0</td>\n",
              "      <td>0</td>\n",
              "      <td>0</td>\n",
              "      <td>1</td>\n",
              "      <td>C1</td>\n",
              "    </tr>\n",
              "    <tr>\n",
              "      <th>1</th>\n",
              "      <td>0.158730</td>\n",
              "      <td>0.052326</td>\n",
              "      <td>0.293102</td>\n",
              "      <td>0.112797</td>\n",
              "      <td>0</td>\n",
              "      <td>0</td>\n",
              "      <td>0</td>\n",
              "      <td>0</td>\n",
              "      <td>1</td>\n",
              "      <td>0</td>\n",
              "      <td>0</td>\n",
              "      <td>0</td>\n",
              "      <td>1</td>\n",
              "      <td>C1</td>\n",
              "    </tr>\n",
              "    <tr>\n",
              "      <th>2</th>\n",
              "      <td>0.095238</td>\n",
              "      <td>0.177326</td>\n",
              "      <td>0.346023</td>\n",
              "      <td>0.174200</td>\n",
              "      <td>0</td>\n",
              "      <td>0</td>\n",
              "      <td>0</td>\n",
              "      <td>0</td>\n",
              "      <td>1</td>\n",
              "      <td>0</td>\n",
              "      <td>0</td>\n",
              "      <td>0</td>\n",
              "      <td>1</td>\n",
              "      <td>C1</td>\n",
              "    </tr>\n",
              "    <tr>\n",
              "      <th>3</th>\n",
              "      <td>0.031746</td>\n",
              "      <td>0.127907</td>\n",
              "      <td>0.309882</td>\n",
              "      <td>0.189984</td>\n",
              "      <td>0</td>\n",
              "      <td>0</td>\n",
              "      <td>0</td>\n",
              "      <td>0</td>\n",
              "      <td>1</td>\n",
              "      <td>0</td>\n",
              "      <td>0</td>\n",
              "      <td>0</td>\n",
              "      <td>1</td>\n",
              "      <td>C1</td>\n",
              "    </tr>\n",
              "    <tr>\n",
              "      <th>4</th>\n",
              "      <td>0.222222</td>\n",
              "      <td>0.020349</td>\n",
              "      <td>0.363663</td>\n",
              "      <td>0.127311</td>\n",
              "      <td>0</td>\n",
              "      <td>0</td>\n",
              "      <td>0</td>\n",
              "      <td>0</td>\n",
              "      <td>1</td>\n",
              "      <td>0</td>\n",
              "      <td>0</td>\n",
              "      <td>0</td>\n",
              "      <td>1</td>\n",
              "      <td>C1</td>\n",
              "    </tr>\n",
              "  </tbody>\n",
              "</table>\n",
              "</div>"
            ],
            "text/plain": [
              "   Vacation   eCredit    salary  property  Type_doctor  Type_engineer  \\\n",
              "0  0.079365  0.107558  0.219960  0.183167            0              0   \n",
              "1  0.158730  0.052326  0.293102  0.112797            0              0   \n",
              "2  0.095238  0.177326  0.346023  0.174200            0              0   \n",
              "3  0.031746  0.127907  0.309882  0.189984            0              0   \n",
              "4  0.222222  0.020349  0.363663  0.127311            0              0   \n",
              "\n",
              "   Type_librarian  Type_professor  Type_student  Type_spend<<saving  \\\n",
              "0               0               0             1                   0   \n",
              "1               0               0             1                   0   \n",
              "2               0               0             1                   0   \n",
              "3               0               0             1                   0   \n",
              "4               0               0             1                   0   \n",
              "\n",
              "   Type_spend<saving  Type_spend>>saving  Type_spend>saving label  \n",
              "0                  0                   0                  1    C1  \n",
              "1                  0                   0                  1    C1  \n",
              "2                  0                   0                  1    C1  \n",
              "3                  0                   0                  1    C1  \n",
              "4                  0                   0                  1    C1  "
            ]
          },
          "metadata": {
            "tags": []
          },
          "execution_count": 33
        }
      ]
    },
    {
      "metadata": {
        "id": "exCNC43QpF-R",
        "colab_type": "code",
        "outputId": "afd3b874-bf72-4e45-8d5a-fb94e23308c1",
        "colab": {
          "base_uri": "https://localhost:8080/",
          "height": 51
        }
      },
      "cell_type": "code",
      "source": [
        "knn(55)"
      ],
      "execution_count": 34,
      "outputs": [
        {
          "output_type": "stream",
          "text": [
            "Accuracy: 33.33333333333333% with k= 55\n"
          ],
          "name": "stdout"
        },
        {
          "output_type": "execute_result",
          "data": {
            "text/plain": [
              "33.33333333333333"
            ]
          },
          "metadata": {
            "tags": []
          },
          "execution_count": 34
        }
      ]
    }
  ]
}